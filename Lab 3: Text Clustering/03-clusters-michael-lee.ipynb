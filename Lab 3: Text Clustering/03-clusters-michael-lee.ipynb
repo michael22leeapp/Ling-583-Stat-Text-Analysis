{
 "cells": [
  {
   "cell_type": "markdown",
   "id": "fdfb90b1-75f4-4f75-8f6c-93b74f45bfb3",
   "metadata": {},
   "source": [
    "# Lab 3: Text clustering\n",
    "\n",
    "Generate and interpret document and term clusters from hotel reviews\n",
    "\n",
    "Objectives:\n",
    "\n",
    "- work with sklearn components\n",
    "- construct document-term and term-document matrices\n",
    "- apply dimensionality reduction\n",
    "- perform cluster analysis on document and term collections\n",
    "- interpret results"
   ]
  },
  {
   "cell_type": "code",
   "execution_count": 1,
   "id": "91f8a412-da30-4be7-beb3-42da5fe7d27b",
   "metadata": {},
   "outputs": [],
   "source": [
    "import re\n",
    "\n",
    "import nltk\n",
    "import numpy as np\n",
    "import pandas as pd\n",
    "from cytoolz import *"
   ]
  },
  {
   "cell_type": "code",
   "execution_count": 2,
   "id": "a6b4ad01-5e25-4b04-abc9-aa1f078880c2",
   "metadata": {},
   "outputs": [],
   "source": [
    "pd.set_option(\"display.max_colwidth\", None)"
   ]
  },
  {
   "cell_type": "code",
   "execution_count": 3,
   "id": "c4d5d8bf-eb11-42bf-9928-406c68b52029",
   "metadata": {},
   "outputs": [],
   "source": [
    "df = pd.read_pickle(\"/data/hotels_id.pkl\")\n",
    "lax = df.query('offering_id==77944')"
   ]
  },
  {
   "cell_type": "code",
   "execution_count": 4,
   "id": "965db82c-c0d2-4d92-a4ba-a0d7feda2372",
   "metadata": {},
   "outputs": [
    {
     "data": {
      "text/plain": [
       "538"
      ]
     },
     "execution_count": 4,
     "metadata": {},
     "output_type": "execute_result"
    }
   ],
   "source": [
    "len(lax)"
   ]
  },
  {
   "cell_type": "code",
   "execution_count": 5,
   "id": "2daeee5b-e27c-4ca2-b0ac-227178f7a149",
   "metadata": {},
   "outputs": [
    {
     "data": {
      "text/html": [
       "<div>\n",
       "<style scoped>\n",
       "    .dataframe tbody tr th:only-of-type {\n",
       "        vertical-align: middle;\n",
       "    }\n",
       "\n",
       "    .dataframe tbody tr th {\n",
       "        vertical-align: top;\n",
       "    }\n",
       "\n",
       "    .dataframe thead th {\n",
       "        text-align: right;\n",
       "    }\n",
       "</style>\n",
       "<table border=\"1\" class=\"dataframe\">\n",
       "  <thead>\n",
       "    <tr style=\"text-align: right;\">\n",
       "      <th></th>\n",
       "      <th>title</th>\n",
       "      <th>text</th>\n",
       "      <th>overall</th>\n",
       "      <th>value</th>\n",
       "      <th>service</th>\n",
       "      <th>cleanliness</th>\n",
       "      <th>offering_id</th>\n",
       "    </tr>\n",
       "  </thead>\n",
       "  <tbody>\n",
       "    <tr>\n",
       "      <th>362503</th>\n",
       "      <td>“Nice stay with a bit of a twist”</td>\n",
       "      <td>The hotel with a ghetto feel !!\\nThis hotel had all the features that were required for a pleasant stay. The staff were pleasant and very helpful and the location was a bonus, as me and my partner were about to make the 15 hour journey back to Australia the next morning. We decided that it would be a good idea to stay close to the airport, so we did not have the chance to miss the flight. \\nWe decided to go out and do a bit of shopping. We came back with the outisde of the hotel covered in police tape and a vehicle with the CSI theme, with all the shell casings from a shooting, a mass of new reporters trying to get the story of the day. \\nLater that evening we were down in the lobby area, when about 50 people were out the front rowing over the shooting that had just taken place and who was to blame, when all of a sudden a gentleman was screaming about pulling out a gun and shooting them.\\nOf course it was not the hotels fault, however it is just some advise for people, to be careful as the area was a bit dangerous and wouldn't be suitable for a young family.</td>\n",
       "      <td>3.0</td>\n",
       "      <td>3.0</td>\n",
       "      <td>4.0</td>\n",
       "      <td>4.0</td>\n",
       "      <td>77944</td>\n",
       "    </tr>\n",
       "    <tr>\n",
       "      <th>362504</th>\n",
       "      <td>“Excellent pit stop”</td>\n",
       "      <td>Popular with longhaul cabin and flight crew is always a good sign when the same needs apply to your stop over: dead close to terminals, good 24hr airport shuttle, quiet, good beds, clean, quality international, no-fuss and locally-aware reception staff. Oh, and quality, not rip-off food and bar/s on site. This establishment managed all of the above without any fuss in the 23hrs we spent as a family breaking a ridiculous NY to Brisbane sector. Add a decent gym, a small pool and some touches of unexpected luxury and I can recommend this one unhesitatingly. The lobby bar food particularly was outstanding.</td>\n",
       "      <td>4.0</td>\n",
       "      <td>3.0</td>\n",
       "      <td>4.0</td>\n",
       "      <td>4.0</td>\n",
       "      <td>77944</td>\n",
       "    </tr>\n",
       "    <tr>\n",
       "      <th>362505</th>\n",
       "      <td>“Great if you rent a car from Avis; excellent if you”</td>\n",
       "      <td>We stayed there throughout our Los Angeles 3 nights. Our rental car was just across the road (very handy). There is nothing bad about the Renaissance... and nothing exciting either! - It's just what you expect from an airport hotel. We had managed to get a really cheap rate at our dates (from memory, under $150 a night), and that made the stay really worthwhile. We could explore the wider area (Los Angeles, Hollywood, Venice Beach, Beverly Hills...) by car from the hotel, and never got stuck in traffic!</td>\n",
       "      <td>4.0</td>\n",
       "      <td>4.0</td>\n",
       "      <td>4.0</td>\n",
       "      <td>4.0</td>\n",
       "      <td>77944</td>\n",
       "    </tr>\n",
       "    <tr>\n",
       "      <th>362528</th>\n",
       "      <td>“Decent place to stay”</td>\n",
       "      <td>This hotel was decent to stay. Clean rooms, nice sheets and courteous staff. Valet parking is a ripoff, and self parking was expensive (12 dollars per day). The rooms had nice terrycloth robes and they were well insulated from the other rooms and airport noise overall. This would be a great place to stay if you needed to be close to the airport.</td>\n",
       "      <td>4.0</td>\n",
       "      <td>4.0</td>\n",
       "      <td>4.0</td>\n",
       "      <td>4.0</td>\n",
       "      <td>77944</td>\n",
       "    </tr>\n",
       "    <tr>\n",
       "      <th>362530</th>\n",
       "      <td>“Great for an overnight”</td>\n",
       "      <td>In October 2012, we did an overnight stay at the Renaissance LAX on the eve of a vacation at a time share down the coast. Our room was clean and comfortable, the staff attentive and friendly and the folks at the bar/restaurant made us feel at home after our late flight. Nice place to stay if you have to stay at an airport, and the price was certainly right. Highly recommend.</td>\n",
       "      <td>5.0</td>\n",
       "      <td>5.0</td>\n",
       "      <td>5.0</td>\n",
       "      <td>5.0</td>\n",
       "      <td>77944</td>\n",
       "    </tr>\n",
       "  </tbody>\n",
       "</table>\n",
       "</div>"
      ],
      "text/plain": [
       "                                                        title  \\\n",
       "362503                      “Nice stay with a bit of a twist”   \n",
       "362504                                   “Excellent pit stop”   \n",
       "362505  “Great if you rent a car from Avis; excellent if you”   \n",
       "362528                                 “Decent place to stay”   \n",
       "362530                               “Great for an overnight”   \n",
       "\n",
       "                                                                                                                                                                                                                                                                                                                                                                                                                                                                                                                                                                                                                                                                                                                                                                                                                                                                                                                                                                                                                                                                                                                      text  \\\n",
       "362503  The hotel with a ghetto feel !!\\nThis hotel had all the features that were required for a pleasant stay. The staff were pleasant and very helpful and the location was a bonus, as me and my partner were about to make the 15 hour journey back to Australia the next morning. We decided that it would be a good idea to stay close to the airport, so we did not have the chance to miss the flight. \\nWe decided to go out and do a bit of shopping. We came back with the outisde of the hotel covered in police tape and a vehicle with the CSI theme, with all the shell casings from a shooting, a mass of new reporters trying to get the story of the day. \\nLater that evening we were down in the lobby area, when about 50 people were out the front rowing over the shooting that had just taken place and who was to blame, when all of a sudden a gentleman was screaming about pulling out a gun and shooting them.\\nOf course it was not the hotels fault, however it is just some advise for people, to be careful as the area was a bit dangerous and wouldn't be suitable for a young family.   \n",
       "362504                                                                                                                                                                                                                                                                                                                                                                                                                                                                                   Popular with longhaul cabin and flight crew is always a good sign when the same needs apply to your stop over: dead close to terminals, good 24hr airport shuttle, quiet, good beds, clean, quality international, no-fuss and locally-aware reception staff. Oh, and quality, not rip-off food and bar/s on site. This establishment managed all of the above without any fuss in the 23hrs we spent as a family breaking a ridiculous NY to Brisbane sector. Add a decent gym, a small pool and some touches of unexpected luxury and I can recommend this one unhesitatingly. The lobby bar food particularly was outstanding.   \n",
       "362505                                                                                                                                                                                                                                                                                                                                                                                                                                                                                                                                                                                        We stayed there throughout our Los Angeles 3 nights. Our rental car was just across the road (very handy). There is nothing bad about the Renaissance... and nothing exciting either! - It's just what you expect from an airport hotel. We had managed to get a really cheap rate at our dates (from memory, under $150 a night), and that made the stay really worthwhile. We could explore the wider area (Los Angeles, Hollywood, Venice Beach, Beverly Hills...) by car from the hotel, and never got stuck in traffic!   \n",
       "362528                                                                                                                                                                                                                                                                                                                                                                                                                                                                                                                                                                                                                                                                                                                                                         This hotel was decent to stay. Clean rooms, nice sheets and courteous staff. Valet parking is a ripoff, and self parking was expensive (12 dollars per day). The rooms had nice terrycloth robes and they were well insulated from the other rooms and airport noise overall. This would be a great place to stay if you needed to be close to the airport.   \n",
       "362530                                                                                                                                                                                                                                                                                                                                                                                                                                                                                                                                                                                                                                                                                                                           In October 2012, we did an overnight stay at the Renaissance LAX on the eve of a vacation at a time share down the coast. Our room was clean and comfortable, the staff attentive and friendly and the folks at the bar/restaurant made us feel at home after our late flight. Nice place to stay if you have to stay at an airport, and the price was certainly right. Highly recommend.   \n",
       "\n",
       "        overall  value  service  cleanliness  offering_id  \n",
       "362503      3.0    3.0      4.0          4.0        77944  \n",
       "362504      4.0    3.0      4.0          4.0        77944  \n",
       "362505      4.0    4.0      4.0          4.0        77944  \n",
       "362528      4.0    4.0      4.0          4.0        77944  \n",
       "362530      5.0    5.0      5.0          5.0        77944  "
      ]
     },
     "execution_count": 5,
     "metadata": {},
     "output_type": "execute_result"
    }
   ],
   "source": [
    "lax.head()"
   ]
  },
  {
   "cell_type": "markdown",
   "id": "cb7c8a1d-285d-4b4e-8daa-810d1ef35f6c",
   "metadata": {},
   "source": [
    "## Construct a document-term matrix\n",
    "\n",
    "See the [Sklearn user manual](https://scikit-learn.org/stable/modules/feature_extraction.html#text-feature-extraction) for functions for constructing dtm's. The most useful for this lab are [`CountVectorizer`](https://scikit-learn.org/stable/modules/generated/sklearn.feature_extraction.text.CountVectorizer.html)  and [`TfidfVectorizer`](https://scikit-learn.org/stable/modules/generated/sklearn.feature_extraction.text.TfidfVectorizer.html).  Both have lots of options you can try adjusting, e.g.,:\n",
    "\n",
    "- min_df: ignore words that occur in fewer than `min_df` documents (either count or percentage)\n",
    "- max_df: ignore words that occur in more than `max_df` documents (either count or percentage)\n",
    "- stop_words: if set to `\"english\"`, removes common English function words\n",
    "- analyzer, tokenizer, preprocessor, lowercase, strip_accents: controls sklearn's built-in tokenizer. If you want to use your own tokenizer (like the multi-word one we made last week), set `analyzer=identity` and give the vectorizer pre-tokenized texts.\n",
    "\n",
    "`TfidfVectorizer` adds a few additional options:\n",
    "\n",
    "- norm: set to `l2` (the default) to normalize doc vectors to unit length or `None` for no normalization\n",
    "- use_idf: include idf term\n",
    "- smooth_idf: add one to document frequencies\n",
    "- sublinear_tf: replace tf term with 1+log(tf)\n",
    "\n",
    "And see docs for many other options!"
   ]
  },
  {
   "cell_type": "code",
   "execution_count": 6,
   "id": "99c0af26-764e-4b29-8d1a-eae9598d0dd7",
   "metadata": {},
   "outputs": [],
   "source": [
    "from sklearn.feature_extraction.text import TfidfVectorizer"
   ]
  },
  {
   "cell_type": "code",
   "execution_count": 7,
   "id": "1b3f54ef-6dfc-4f19-8fa3-81e2a7c66f2b",
   "metadata": {},
   "outputs": [],
   "source": [
    "tf = TfidfVectorizer(min_df=2, max_df=0.6, use_idf=False)\n",
    "dtm = tf.fit_transform(lax[\"text\"])"
   ]
  },
  {
   "cell_type": "code",
   "execution_count": 8,
   "id": "97a7fa7f-280e-4f44-b096-7afc85766006",
   "metadata": {},
   "outputs": [
    {
     "data": {
      "text/plain": [
       "<538x2781 sparse matrix of type '<class 'numpy.float64'>'\n",
       "\twith 42251 stored elements in Compressed Sparse Row format>"
      ]
     },
     "execution_count": 8,
     "metadata": {},
     "output_type": "execute_result"
    }
   ],
   "source": [
    "dtm"
   ]
  },
  {
   "cell_type": "markdown",
   "id": "1ec91ca8-0ca5-41a9-85c4-d7308c9c1179",
   "metadata": {},
   "source": [
    "## Apply dimensionality reduction\n",
    "\n",
    "The original formulation of Latent Semantic Indexing used SVD for dimensionality reduction. The sklearn function [`TruncatedSVD`](https://scikit-learn.org/stable/modules/generated/sklearn.decomposition.TruncatedSVD.html)  is an efficient implentation of SVD for large sparse matrices (such as dtm's). The argument `n_components` sets the number of dimensions (i.e., columns) in the reduced matrix.\n",
    "\n",
    "You can experiment with other dimensionality reduction techniques, as described in the manual sections on [Matrix factorization](https://scikit-learn.org/stable/modules/decomposition.html#lsa) and [Manifold](https://scikit-learn.org/stable/modules/manifold.html#t-sne). Or, you can skip this step and use your dtm directly as input to the clusterer\n",
    "\n"
   ]
  },
  {
   "cell_type": "code",
   "execution_count": 9,
   "id": "b84d426d-4072-4633-ad3f-909f76d6a6f2",
   "metadata": {},
   "outputs": [],
   "source": [
    "from sklearn.decomposition import TruncatedSVD"
   ]
  },
  {
   "cell_type": "code",
   "execution_count": 10,
   "id": "79965fb4-d17e-460d-8b39-8867d03a3cb2",
   "metadata": {},
   "outputs": [],
   "source": [
    "lsi = TruncatedSVD(n_components=25, random_state=760)\n",
    "dtm_lsi = lsi.fit_transform(dtm)"
   ]
  },
  {
   "cell_type": "code",
   "execution_count": 11,
   "id": "65bf372a-dd0d-4f9e-8a4d-405ab933fb9e",
   "metadata": {},
   "outputs": [
    {
     "data": {
      "text/plain": [
       "(538, 25)"
      ]
     },
     "execution_count": 11,
     "metadata": {},
     "output_type": "execute_result"
    }
   ],
   "source": [
    "dtm_lsi.shape"
   ]
  },
  {
   "cell_type": "markdown",
   "id": "d9f54073-dadc-4759-8841-7e7ca860cd23",
   "metadata": {},
   "source": [
    "## Perform cluster analysis\n",
    "\n",
    "Sklearn has implementations of most current clusterining algoroths. See the [clustering chapter](https://scikit-learn.org/stable/modules/clustering.html#clustering) for more discussion. \n",
    "\n",
    "The [k-means](https://scikit-learn.org/stable/modules/generated/sklearn.cluster.KMeans.html) algorithm is a particular simple one. It requires one argument: `n_clusters` sets the number of clusters that k-means will find. K-means is a non-deterministic algorithm, meaning each time you run it you may get a different answer. If you want your results to be reproducible, set the `random_state` argument.\n",
    "\n",
    "\n"
   ]
  },
  {
   "cell_type": "code",
   "execution_count": 12,
   "id": "41d4ba0b-896a-4659-a4ee-b382bbe91c5d",
   "metadata": {},
   "outputs": [],
   "source": [
    "from sklearn.cluster import KMeans"
   ]
  },
  {
   "cell_type": "code",
   "execution_count": 13,
   "id": "cf8c798f-75e3-4d67-9ae9-613ace62b018",
   "metadata": {},
   "outputs": [],
   "source": [
    "kmeans = KMeans(n_clusters=20, random_state=858, n_init='auto')\n",
    "cluster = kmeans.fit_predict(dtm_lsi)"
   ]
  },
  {
   "cell_type": "markdown",
   "id": "0e5720fd-c47f-4c4b-b216-0bee70bfc921",
   "metadata": {},
   "source": [
    "## Interpret results\n",
    "\n",
    "Now the hard part: what does all this mean? There are two ways of evaluating a clustering solution, quantitatively and qualitatively."
   ]
  },
  {
   "cell_type": "code",
   "execution_count": 14,
   "id": "7379433a-9525-4380-9fcf-7ee74798255c",
   "metadata": {},
   "outputs": [],
   "source": [
    "from sklearn import metrics"
   ]
  },
  {
   "cell_type": "markdown",
   "id": "9cb5be1b-5df5-4756-bd25-d448acd91ecb",
   "metadata": {},
   "source": [
    "A simple quantitative metric: how many documents are in each cluster?"
   ]
  },
  {
   "cell_type": "code",
   "execution_count": 15,
   "id": "70eac9b9-971c-4853-9c69-13375365ae77",
   "metadata": {},
   "outputs": [
    {
     "data": {
      "text/plain": [
       "[(2, 41),\n",
       " (12, 41),\n",
       " (17, 41),\n",
       " (4, 36),\n",
       " (3, 33),\n",
       " (9, 31),\n",
       " (6, 31),\n",
       " (8, 30),\n",
       " (0, 27),\n",
       " (5, 26),\n",
       " (1, 26),\n",
       " (18, 26),\n",
       " (19, 24),\n",
       " (14, 23),\n",
       " (7, 22),\n",
       " (11, 22),\n",
       " (15, 21),\n",
       " (13, 13),\n",
       " (16, 12),\n",
       " (10, 12)]"
      ]
     },
     "execution_count": 15,
     "metadata": {},
     "output_type": "execute_result"
    }
   ],
   "source": [
    "nltk.FreqDist(cluster).most_common()"
   ]
  },
  {
   "cell_type": "markdown",
   "id": "671746dd-8d7c-4ba1-b22a-7f133d95902d",
   "metadata": {},
   "source": [
    "More complex metrics take into account how diffuse the clusters are and how well separated they are. Three potentially useful metrics are:\n",
    "\n",
    "- [Calinski Harabasz_score](https://scikit-learn.org/stable/modules/generated/sklearn.metrics.calinski_harabasz_score.html#sklearn.metrics.calinski_harabasz_score) [higher = better]\n",
    "- [Davies Bouldin score](https://scikit-learn.org/stable/modules/generated/sklearn.metrics.davies_bouldin_score.html#sklearn.metrics.davies_bouldin_score) [lower = better]\n",
    "- [Silhouette_score](https://scikit-learn.org/stable/modules/generated/sklearn.metrics.silhouette_score.html#sklearn.metrics.silhouette_score) [higher = better]\n",
    "\n",
    "These are mostly useful for comparing different clusterings of the same data. For example, we could use these to find a good value for *k*, the number of clusters\n",
    "\n",
    "\n",
    "\n",
    "\n"
   ]
  },
  {
   "cell_type": "code",
   "execution_count": 16,
   "id": "78829619-8785-45c4-af4a-d5aaa6039d35",
   "metadata": {},
   "outputs": [
    {
     "name": "stdout",
     "output_type": "stream",
     "text": [
      " 2   73.224     2.523     0.111  \n",
      " 3   51.110     3.244     0.086  \n",
      " 4   38.569     3.619     0.047  \n",
      " 5   34.990     3.219     0.081  \n",
      " 6   29.994     3.145     0.076  \n",
      " 7   27.726     3.225     0.055  \n",
      " 8   25.029     3.192     0.051  \n",
      " 9   22.464     3.335     0.039  \n",
      "10   21.392     3.162     0.046  \n",
      "11   20.269     3.062     0.048  \n",
      "12   19.216     3.032     0.043  \n",
      "13   18.683     2.818     0.048  \n",
      "14   17.463     2.867     0.046  \n",
      "15   16.575     2.919     0.044  \n",
      "16   16.524     2.774     0.049  \n",
      "17   15.700     2.828     0.047  \n",
      "18   15.283     2.776     0.049  \n",
      "19   15.123     2.637     0.052  \n"
     ]
    }
   ],
   "source": [
    "for k in range(2, 20):\n",
    "    _kmeans = KMeans(n_clusters=k, random_state=858, n_init=\"auto\")\n",
    "    _cluster = _kmeans.fit_predict(dtm_lsi)\n",
    "    print(\n",
    "        f\"{k:2}  \"\n",
    "        f\"{metrics.calinski_harabasz_score(dtm_lsi, _cluster):7.3f}   \"\n",
    "        f\"{metrics.davies_bouldin_score(dtm_lsi, _cluster):7.3f}   \"\n",
    "        f\"{metrics.silhouette_score(dtm_lsi, _cluster):7.3f}  \"\n",
    "    )"
   ]
  },
  {
   "cell_type": "markdown",
   "id": "d446d980-44ca-496e-bb90-8644f4250ef2",
   "metadata": {},
   "source": [
    "Qualitative evaluation means reading the data and trying to figure it out. We could look at all of the reviews in some of the smaller clusters:"
   ]
  },
  {
   "cell_type": "code",
   "execution_count": 17,
   "id": "3d91e4a1-255d-4c1e-aa02-b6d1827aef4e",
   "metadata": {},
   "outputs": [
    {
     "data": {
      "text/plain": [
       "362504    Popular with longhaul cabin and flight crew is always a good sign when the same needs apply to your stop over: dead close to terminals, good 24hr airport shuttle, quiet, good beds, clean, quality international, no-fuss and locally-aware reception staff. Oh, and quality, not rip-off food and bar/s on site. This establishment managed all of the above without any fuss in the 23hrs we spent as a family breaking a ridiculous NY to Brisbane sector. Add a decent gym, a small pool and some touches of unexpected luxury and I can recommend this one unhesitatingly. The lobby bar food particularly was outstanding.\n",
       "362885                                                                                                                                                                                                                                                                                                                                                                                  The staff was welcoming and beds comfortable. Meeting rooms were fine but often cold or warm. They did a good job on meals, especially considering the size of the group. The selection was good as well with some healthy options. back next year.\n",
       "363273                                                                                                                                                                                                                                                                                                  This airport hotel is a good choice in LAX. The free shuttle took a while to show up but it did. The beds are very comfy. There is a Burger King across the street. The breakfast buffet at the hotel is very good but expensive. There is an ATM hidden in a corner near the reception. Staff can help with tours. I will be back.\n",
       "364394                                                                                                                                                                                                                                                                                                                                                                                                                                                                                perfect airport hotel. good shuttle service. clean, comfortable bed. staff was helpful in sending ups package. booked on priceline for amazing price!\n",
       "364645                                                                                                                                                                                                                                                                                                                                                                                                                                                                 A very good stay in Los Angeles Airport. The hotel is comfortable and clean; service is good and the parking was free (with booking through Expedia) and convenient.\n",
       "Name: text, dtype: object"
      ]
     },
     "execution_count": 17,
     "metadata": {},
     "output_type": "execute_result"
    }
   ],
   "source": [
    "lax[cluster == 16][\"text\"].head()"
   ]
  },
  {
   "cell_type": "markdown",
   "id": "101efb93-c3bf-499d-9cc5-757bf12d6382",
   "metadata": {},
   "source": [
    "Or, since we're using *k* means, we could sort them in order of proximity to the cluster centroid."
   ]
  },
  {
   "cell_type": "code",
   "execution_count": 18,
   "id": "0126b656-062b-4313-a50b-d8f62935f5ab",
   "metadata": {},
   "outputs": [
    {
     "data": {
      "text/plain": [
       "362504    Popular with longhaul cabin and flight crew is always a good sign when the same needs apply to your stop over: dead close to terminals, good 24hr airport shuttle, quiet, good beds, clean, quality international, no-fuss and locally-aware reception staff. Oh, and quality, not rip-off food and bar/s on site. This establishment managed all of the above without any fuss in the 23hrs we spent as a family breaking a ridiculous NY to Brisbane sector. Add a decent gym, a small pool and some touches of unexpected luxury and I can recommend this one unhesitatingly. The lobby bar food particularly was outstanding.\n",
       "364394                                                                                                                                                                                                                                                                                                                                                                                                                                                                                perfect airport hotel. good shuttle service. clean, comfortable bed. staff was helpful in sending ups package. booked on priceline for amazing price!\n",
       "362885                                                                                                                                                                                                                                                                                                                                                                                  The staff was welcoming and beds comfortable. Meeting rooms were fine but often cold or warm. They did a good job on meals, especially considering the size of the group. The selection was good as well with some healthy options. back next year.\n",
       "365032                                                                                                                                                                                                                                                                                                                                                     Nice room with comfy beds. Shuttle collected and dropped us at the airport only a few minutes away. The service was friendly. Dinner at the bar was good value. I would recommend this hotel if you are looking for an easy stopover hotel at the airport. Good value for money.\n",
       "367284                                                                             I was here once before, maybe 5 years ago, and thought it was good. This time, i'm thinking it's fab. The bed was super comfortable. The room was HUGELY quiet. No LAX noise at all, WOW. The LAX shuttle service was VERY good, the driver helped with my oversized bag, very good service. The restaurant needs more light (could barely read menu) but the service was GREAT and the food was REALLY GOOD.\\ni'm actually a picky person when it comes to hotels, but this one was quite good and i'll be back when in LA. Really happy with this one.\n",
       "Name: text, dtype: object"
      ]
     },
     "execution_count": 18,
     "metadata": {},
     "output_type": "execute_result"
    }
   ],
   "source": [
    "C = 16\n",
    "distances = metrics.pairwise.euclidean_distances(\n",
    "    kmeans.cluster_centers_[C, np.newaxis, :], dtm_lsi[cluster == C, :]\n",
    ")\n",
    "lax[cluster == C].iloc[np.argsort(distances)[0]][\"text\"].head(5)"
   ]
  },
  {
   "cell_type": "markdown",
   "id": "12959d7a-c2bb-445b-ac03-f32e63a57e4d",
   "metadata": {},
   "source": [
    "## Term clustering\n",
    "\n",
    "Document clustering is not usually very helpful, unless the documents are very short and/or naturally fall into a small number of distinct classes. Term clustering, on the other hand, does sometimes give interesting results. \n",
    "\n",
    "To cluster terms, all we need to do is transpose the document-term matrix to form the term-document matrix (tdm). After that, the rest of the process is the same, except that instead of relating documents by the terms they share, we're relating terms by the documents they co-occur in.\n",
    "\n"
   ]
  },
  {
   "cell_type": "code",
   "execution_count": 124,
   "id": "1eec8ea3-3e03-4872-a01e-c32f4d3de565",
   "metadata": {},
   "outputs": [],
   "source": [
    "tf = TfidfVectorizer(min_df=2, max_df=0.6, use_idf=True)\n",
    "tdm = tf.fit_transform(lax[\"text\"]).T\n",
    "\n",
    "lsi = TruncatedSVD(n_components=5, random_state=858)\n",
    "tdm_lsi = lsi.fit_transform(tdm)\n",
    "\n",
    "kmeans = KMeans(20, random_state=858, n_init=\"auto\")\n",
    "cluster = kmeans.fit_predict(tdm_lsi)"
   ]
  },
  {
   "cell_type": "code",
   "execution_count": 125,
   "id": "3a2fca17-efd4-400b-9a3b-3f8715f97b78",
   "metadata": {},
   "outputs": [
    {
     "data": {
      "text/plain": [
       "[(0, 1421),\n",
       " (11, 489),\n",
       " (14, 382),\n",
       " (8, 134),\n",
       " (18, 110),\n",
       " (12, 72),\n",
       " (1, 41),\n",
       " (7, 31),\n",
       " (17, 29),\n",
       " (16, 18),\n",
       " (5, 13),\n",
       " (4, 11),\n",
       " (2, 8),\n",
       " (19, 6),\n",
       " (9, 5),\n",
       " (6, 5),\n",
       " (15, 2),\n",
       " (10, 2),\n",
       " (3, 1),\n",
       " (13, 1)]"
      ]
     },
     "execution_count": 125,
     "metadata": {},
     "output_type": "execute_result"
    }
   ],
   "source": [
    "nltk.FreqDist(cluster).most_common()"
   ]
  },
  {
   "cell_type": "code",
   "execution_count": 126,
   "id": "2fead011-024e-4529-b76e-04ff66b3034d",
   "metadata": {},
   "outputs": [],
   "source": [
    "vocab = tf.get_feature_names_out()"
   ]
  },
  {
   "cell_type": "code",
   "execution_count": 132,
   "id": "a4e19558-c5ee-4fb7-86ab-195b7d392bd6",
   "metadata": {},
   "outputs": [
    {
     "data": {
      "text/plain": [
       "array(['across', 'burger', 'can', 'car', 'close', 'king', 'minutes',\n",
       "       'rental', 'right', 'street', 'valet', 'walk', 'your'], dtype=object)"
      ]
     },
     "execution_count": 132,
     "metadata": {},
     "output_type": "execute_result"
    }
   ],
   "source": [
    "vocab[cluster == 5]"
   ]
  },
  {
   "cell_type": "code",
   "execution_count": 129,
   "id": "1fc931fe-c3c8-4974-9138-fea47caf1c45",
   "metadata": {},
   "outputs": [
    {
     "data": {
      "text/plain": [
       "array(['about', 'after', 'all', 'also', 'area', 'could', 'day', 'didn',\n",
       "       'flight', 'free', 'get', 'got', 'just', 'la', 'morning', 'next',\n",
       "       'no', 'only', 'or', 'out', 'place', 'really', 'time', 'two', 'up',\n",
       "       'us', 'what', 'when', 'which'], dtype=object)"
      ]
     },
     "execution_count": 129,
     "metadata": {},
     "output_type": "execute_result"
    }
   ],
   "source": [
    "vocab[cluster == 17]"
   ]
  },
  {
   "cell_type": "code",
   "execution_count": 133,
   "id": "a956c4a5-6796-449b-876a-022b2fcd6abc",
   "metadata": {},
   "outputs": [
    {
     "data": {
      "text/plain": [
       "array(['about', 'just', 'also', 'la', 'really', 'got', 'only', 'up',\n",
       "       'morning', 'could', 'two', 'didn', 'next', 'what', 'day', 'after',\n",
       "       'place', 'area', 'out', 'when', 'time', 'get', 'no', 'flight',\n",
       "       'or', 'which', 'free', 'all', 'us'], dtype=object)"
      ]
     },
     "execution_count": 133,
     "metadata": {},
     "output_type": "execute_result"
    }
   ],
   "source": [
    "C = 17\n",
    "distances = metrics.pairwise.euclidean_distances(\n",
    "    kmeans.cluster_centers_[C, np.newaxis, :], tdm_lsi[cluster == C, :]\n",
    ")\n",
    "vocab[cluster == C][np.argsort(distances)[0]]"
   ]
  },
  {
   "cell_type": "code",
   "execution_count": 127,
   "id": "7a6faa5d-401e-4f80-9a3f-2d5ffe55bd09",
   "metadata": {},
   "outputs": [
    {
     "data": {
      "text/plain": [
       "array(['again', 'angeles', 'bar', 'beds', 'buffet', 'definitely', 'early',\n",
       "       'excellent', 'food', 'friendly', 'helpful', 'location', 'los',\n",
       "       'needed', 'overnight', 'recommend', 'restaurant', 'will'],\n",
       "      dtype=object)"
      ]
     },
     "execution_count": 127,
     "metadata": {},
     "output_type": "execute_result"
    }
   ],
   "source": [
    "vocab[cluster == 16]"
   ]
  },
  {
   "cell_type": "code",
   "execution_count": 128,
   "id": "a87272ab-da10-4128-8b16-12d0fc105980",
   "metadata": {},
   "outputs": [
    {
     "data": {
      "text/plain": [
       "array(['recommend', 'needed', 'definitely', 'excellent', 'beds', 'buffet',\n",
       "       'friendly', 'early', 'overnight', 'helpful', 'location', 'bar',\n",
       "       'los', 'angeles', 'restaurant', 'again', 'food', 'will'],\n",
       "      dtype=object)"
      ]
     },
     "execution_count": 128,
     "metadata": {},
     "output_type": "execute_result"
    }
   ],
   "source": [
    "C = 16\n",
    "distances = metrics.pairwise.euclidean_distances(\n",
    "    kmeans.cluster_centers_[C, np.newaxis, :], tdm_lsi[cluster == C, :]\n",
    ")\n",
    "vocab[cluster == C][np.argsort(distances)[0]]"
   ]
  },
  {
   "cell_type": "markdown",
   "id": "4e25715c-fca3-4581-b705-58b53bbfc2fa",
   "metadata": {},
   "source": [
    "### Results\n",
    "\n",
    "Once you're done experimenting with document and term clustering, write up a paragraph on your results? What methods did you try? What worked and what didn't? Did you manage to find any useful information about hotels from this?"
   ]
  },
  {
   "cell_type": "markdown",
   "id": "07fdd6ce-a136-404b-bf47-cea94c11db86",
   "metadata": {},
   "source": [
    "I first tried changing max_df to 0.9 to ignore words that occur in 90% of documents instead of 80%. I noticed that this affected the number of documents in each cluster. Initially, cluster 3 had 63 documents, which was the most out of the other clusters. After the change, cluster 7 had the most with 55 documents. Taking a look at the metrics, the scores seemed relatively the same, so the change I made probably wasn't very influential. I tested out different values and found that a value of 0.6 for max_df yielded better scores.\n",
    "\n",
    "Next, I wanted to see how changing the number of clusters would affect the results. Obviously, this affected the amount of documents within each cluster, so more clusters meant documents were more spread out between clusters. However, the scores for finding the optimal k number of clusters did not change. Based on the scores, having two clusters is the most optimal.\n",
    "\n",
    "Looking at the words in different clusters, some clusters contain words that provide useful information about hotels more than others. For example, cluster 16 has words like 'buffet', 'friendly', and 'recommend' while cluster 17 doesn't have as many distinct keywords that tell us useful information about hotels.\n"
   ]
  }
 ],
 "metadata": {
  "kernelspec": {
   "display_name": "Python 3 (ipykernel)",
   "language": "python",
   "name": "python3"
  },
  "language_info": {
   "codemirror_mode": {
    "name": "ipython",
    "version": 3
   },
   "file_extension": ".py",
   "mimetype": "text/x-python",
   "name": "python",
   "nbconvert_exporter": "python",
   "pygments_lexer": "ipython3",
   "version": "3.10.8"
  }
 },
 "nbformat": 4,
 "nbformat_minor": 5
}
