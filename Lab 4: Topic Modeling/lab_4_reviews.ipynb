{
  "cells": [
    {
      "cell_type": "markdown",
      "id": "e64c8111-ad50-41d3-9043-116df80188f0",
      "metadata": {
        "id": "e64c8111-ad50-41d3-9043-116df80188f0"
      },
      "source": [
        "# LAB 4: Topic modeling\n",
        "\n",
        "Use topic models to explore hotel reviews\n",
        "\n",
        "Objectives:\n",
        "\n",
        "- tokenize with MWEs using spacy\n",
        "- estimate LDA topic models with tomotopy\n",
        "- visualize and evaluate topic models\n",
        "- apply topic models to interpretation of hotel reviews"
      ]
    },
    {
      "cell_type": "code",
      "execution_count": 2,
      "id": "a21fe33b-4381-49df-90c9-665706b6eae1",
      "metadata": {
        "colab": {
          "base_uri": "https://localhost:8080/",
          "height": 383
        },
        "id": "a21fe33b-4381-49df-90c9-665706b6eae1",
        "outputId": "28217c66-74a5-478a-f36b-0f906223d6ac"
      },
      "outputs": [
        {
          "output_type": "error",
          "ename": "ModuleNotFoundError",
          "evalue": "No module named 'tomotopy'",
          "traceback": [
            "\u001b[0;31m---------------------------------------------------------------------------\u001b[0m",
            "\u001b[0;31mModuleNotFoundError\u001b[0m                       Traceback (most recent call last)",
            "\u001b[0;32m<ipython-input-2-57bc83df6e04>\u001b[0m in \u001b[0;36m<cell line: 5>\u001b[0;34m()\u001b[0m\n\u001b[1;32m      3\u001b[0m \u001b[0;32mimport\u001b[0m \u001b[0mnumpy\u001b[0m \u001b[0;32mas\u001b[0m \u001b[0mnp\u001b[0m\u001b[0;34m\u001b[0m\u001b[0;34m\u001b[0m\u001b[0m\n\u001b[1;32m      4\u001b[0m \u001b[0;32mimport\u001b[0m \u001b[0mpandas\u001b[0m \u001b[0;32mas\u001b[0m \u001b[0mpd\u001b[0m\u001b[0;34m\u001b[0m\u001b[0;34m\u001b[0m\u001b[0m\n\u001b[0;32m----> 5\u001b[0;31m \u001b[0;32mimport\u001b[0m \u001b[0mtomotopy\u001b[0m \u001b[0;32mas\u001b[0m \u001b[0mtp\u001b[0m\u001b[0;34m\u001b[0m\u001b[0;34m\u001b[0m\u001b[0m\n\u001b[0m\u001b[1;32m      6\u001b[0m \u001b[0;32mfrom\u001b[0m \u001b[0mcytoolz\u001b[0m \u001b[0;32mimport\u001b[0m \u001b[0;34m*\u001b[0m\u001b[0;34m\u001b[0m\u001b[0;34m\u001b[0m\u001b[0m\n\u001b[1;32m      7\u001b[0m \u001b[0;32mfrom\u001b[0m \u001b[0mtqdm\u001b[0m\u001b[0;34m.\u001b[0m\u001b[0mauto\u001b[0m \u001b[0;32mimport\u001b[0m \u001b[0mtqdm\u001b[0m\u001b[0;34m\u001b[0m\u001b[0;34m\u001b[0m\u001b[0m\n",
            "\u001b[0;31mModuleNotFoundError\u001b[0m: No module named 'tomotopy'",
            "",
            "\u001b[0;31m---------------------------------------------------------------------------\u001b[0;32m\nNOTE: If your import is failing due to a missing package, you can\nmanually install dependencies using either !pip or !apt.\n\nTo view examples of installing some common dependencies, click the\n\"Open Examples\" button below.\n\u001b[0;31m---------------------------------------------------------------------------\u001b[0m\n"
          ],
          "errorDetails": {
            "actions": [
              {
                "action": "open_url",
                "actionText": "Open Examples",
                "url": "/notebooks/snippets/importing_libraries.ipynb"
              }
            ]
          }
        }
      ],
      "source": [
        "from collections import Counter\n",
        "\n",
        "import numpy as np\n",
        "import pandas as pd\n",
        "import tomotopy as tp\n",
        "from cytoolz import *\n",
        "from tqdm.auto import tqdm\n",
        "\n",
        "tqdm.pandas()"
      ]
    },
    {
      "cell_type": "markdown",
      "id": "deff05b5-91cb-42b5-be8e-3f2f21ce96a1",
      "metadata": {
        "id": "deff05b5-91cb-42b5-be8e-3f2f21ce96a1"
      },
      "source": [
        "## Prepare data"
      ]
    },
    {
      "cell_type": "code",
      "execution_count": 3,
      "id": "c69b3c46-0b76-4116-86b5-9a237fecce3f",
      "metadata": {
        "colab": {
          "base_uri": "https://localhost:8080/",
          "height": 321
        },
        "id": "c69b3c46-0b76-4116-86b5-9a237fecce3f",
        "outputId": "0a5e6a17-30e7-48d7-8381-1cacdc56c7c9"
      },
      "outputs": [
        {
          "output_type": "error",
          "ename": "FileNotFoundError",
          "evalue": "[Errno 2] No such file or directory: '/data/hotels_id.pkl'",
          "traceback": [
            "\u001b[0;31m---------------------------------------------------------------------------\u001b[0m",
            "\u001b[0;31mFileNotFoundError\u001b[0m                         Traceback (most recent call last)",
            "\u001b[0;32m<ipython-input-3-c4e6e7552b0c>\u001b[0m in \u001b[0;36m<cell line: 1>\u001b[0;34m()\u001b[0m\n\u001b[0;32m----> 1\u001b[0;31m \u001b[0mdf\u001b[0m \u001b[0;34m=\u001b[0m \u001b[0mpd\u001b[0m\u001b[0;34m.\u001b[0m\u001b[0mread_pickle\u001b[0m\u001b[0;34m(\u001b[0m\u001b[0;34m\"/data/hotels_id.pkl\"\u001b[0m\u001b[0;34m)\u001b[0m\u001b[0;34m\u001b[0m\u001b[0;34m\u001b[0m\u001b[0m\n\u001b[0m\u001b[1;32m      2\u001b[0m \u001b[0mmdl\u001b[0m \u001b[0;34m=\u001b[0m \u001b[0mtp\u001b[0m\u001b[0;34m.\u001b[0m\u001b[0mLDAModel\u001b[0m\u001b[0;34m.\u001b[0m\u001b[0mload\u001b[0m\u001b[0;34m(\u001b[0m\u001b[0;34m\"hotel-topics.bin\"\u001b[0m\u001b[0;34m)\u001b[0m\u001b[0;34m\u001b[0m\u001b[0;34m\u001b[0m\u001b[0m\n\u001b[1;32m      3\u001b[0m \u001b[0mlabels\u001b[0m \u001b[0;34m=\u001b[0m \u001b[0mlist\u001b[0m\u001b[0;34m(\u001b[0m\u001b[0mpd\u001b[0m\u001b[0;34m.\u001b[0m\u001b[0mread_csv\u001b[0m\u001b[0;34m(\u001b[0m\u001b[0;34m\"labels.csv\"\u001b[0m\u001b[0;34m)\u001b[0m\u001b[0;34m[\u001b[0m\u001b[0;34m\"label\"\u001b[0m\u001b[0;34m]\u001b[0m\u001b[0;34m)\u001b[0m\u001b[0;34m\u001b[0m\u001b[0;34m\u001b[0m\u001b[0m\n",
            "\u001b[0;32m/usr/local/lib/python3.10/dist-packages/pandas/io/pickle.py\u001b[0m in \u001b[0;36mread_pickle\u001b[0;34m(filepath_or_buffer, compression, storage_options)\u001b[0m\n\u001b[1;32m    177\u001b[0m     \"\"\"\n\u001b[1;32m    178\u001b[0m     \u001b[0mexcs_to_catch\u001b[0m \u001b[0;34m=\u001b[0m \u001b[0;34m(\u001b[0m\u001b[0mAttributeError\u001b[0m\u001b[0;34m,\u001b[0m \u001b[0mImportError\u001b[0m\u001b[0;34m,\u001b[0m \u001b[0mModuleNotFoundError\u001b[0m\u001b[0;34m,\u001b[0m \u001b[0mTypeError\u001b[0m\u001b[0;34m)\u001b[0m\u001b[0;34m\u001b[0m\u001b[0;34m\u001b[0m\u001b[0m\n\u001b[0;32m--> 179\u001b[0;31m     with get_handle(\n\u001b[0m\u001b[1;32m    180\u001b[0m         \u001b[0mfilepath_or_buffer\u001b[0m\u001b[0;34m,\u001b[0m\u001b[0;34m\u001b[0m\u001b[0;34m\u001b[0m\u001b[0m\n\u001b[1;32m    181\u001b[0m         \u001b[0;34m\"rb\"\u001b[0m\u001b[0;34m,\u001b[0m\u001b[0;34m\u001b[0m\u001b[0;34m\u001b[0m\u001b[0m\n",
            "\u001b[0;32m/usr/local/lib/python3.10/dist-packages/pandas/io/common.py\u001b[0m in \u001b[0;36mget_handle\u001b[0;34m(path_or_buf, mode, encoding, compression, memory_map, is_text, errors, storage_options)\u001b[0m\n\u001b[1;32m    866\u001b[0m         \u001b[0;32melse\u001b[0m\u001b[0;34m:\u001b[0m\u001b[0;34m\u001b[0m\u001b[0;34m\u001b[0m\u001b[0m\n\u001b[1;32m    867\u001b[0m             \u001b[0;31m# Binary mode\u001b[0m\u001b[0;34m\u001b[0m\u001b[0;34m\u001b[0m\u001b[0m\n\u001b[0;32m--> 868\u001b[0;31m             \u001b[0mhandle\u001b[0m \u001b[0;34m=\u001b[0m \u001b[0mopen\u001b[0m\u001b[0;34m(\u001b[0m\u001b[0mhandle\u001b[0m\u001b[0;34m,\u001b[0m \u001b[0mioargs\u001b[0m\u001b[0;34m.\u001b[0m\u001b[0mmode\u001b[0m\u001b[0;34m)\u001b[0m\u001b[0;34m\u001b[0m\u001b[0;34m\u001b[0m\u001b[0m\n\u001b[0m\u001b[1;32m    869\u001b[0m         \u001b[0mhandles\u001b[0m\u001b[0;34m.\u001b[0m\u001b[0mappend\u001b[0m\u001b[0;34m(\u001b[0m\u001b[0mhandle\u001b[0m\u001b[0;34m)\u001b[0m\u001b[0;34m\u001b[0m\u001b[0;34m\u001b[0m\u001b[0m\n\u001b[1;32m    870\u001b[0m \u001b[0;34m\u001b[0m\u001b[0m\n",
            "\u001b[0;31mFileNotFoundError\u001b[0m: [Errno 2] No such file or directory: '/data/hotels_id.pkl'"
          ]
        }
      ],
      "source": [
        "df = pd.read_pickle(\"/data/hotels_id.pkl\")\n",
        "mdl = tp.LDAModel.load(\"hotel-topics.bin\")\n",
        "labels = list(pd.read_csv(\"labels.csv\")[\"label\"])"
      ]
    },
    {
      "cell_type": "code",
      "execution_count": 4,
      "id": "9b9285b0-bfad-4abd-9aad-287449f9a1ba",
      "metadata": {
        "colab": {
          "base_uri": "https://localhost:8080/",
          "height": 141
        },
        "id": "9b9285b0-bfad-4abd-9aad-287449f9a1ba",
        "outputId": "bf681c44-7b64-46ce-ddfe-9bba1d8c9db5"
      },
      "outputs": [
        {
          "output_type": "error",
          "ename": "NameError",
          "evalue": "name 'df' is not defined",
          "traceback": [
            "\u001b[0;31m---------------------------------------------------------------------------\u001b[0m",
            "\u001b[0;31mNameError\u001b[0m                                 Traceback (most recent call last)",
            "\u001b[0;32m<ipython-input-4-92e49775ecca>\u001b[0m in \u001b[0;36m<cell line: 1>\u001b[0;34m()\u001b[0m\n\u001b[0;32m----> 1\u001b[0;31m \u001b[0mdf\u001b[0m\u001b[0;34m[\u001b[0m\u001b[0mdf\u001b[0m\u001b[0;34m[\u001b[0m\u001b[0;34m\"overall\"\u001b[0m\u001b[0;34m]\u001b[0m \u001b[0;34m==\u001b[0m \u001b[0;36m1\u001b[0m\u001b[0;34m]\u001b[0m\u001b[0;34m[\u001b[0m\u001b[0;34m\"offering_id\"\u001b[0m\u001b[0;34m]\u001b[0m\u001b[0;34m.\u001b[0m\u001b[0mvalue_counts\u001b[0m\u001b[0;34m(\u001b[0m\u001b[0;34m)\u001b[0m\u001b[0;34m.\u001b[0m\u001b[0mhead\u001b[0m\u001b[0;34m(\u001b[0m\u001b[0;36m20\u001b[0m\u001b[0;34m)\u001b[0m\u001b[0;34m\u001b[0m\u001b[0;34m\u001b[0m\u001b[0m\n\u001b[0m",
            "\u001b[0;31mNameError\u001b[0m: name 'df' is not defined"
          ]
        }
      ],
      "source": [
        "df[df[\"overall\"] == 1][\"offering_id\"].value_counts().head(20)"
      ]
    },
    {
      "cell_type": "markdown",
      "id": "1e52f04f-ac0a-4f5b-bb60-7e1d88c25198",
      "metadata": {
        "id": "1e52f04f-ac0a-4f5b-bb60-7e1d88c25198"
      },
      "source": [
        "Pick a hotel with a lot of 1 star ratings (other than # 93520) and pull out all of its reviews"
      ]
    },
    {
      "cell_type": "code",
      "execution_count": null,
      "id": "264a034e-ea24-4fe0-a837-c8a7b2da3560",
      "metadata": {
        "id": "264a034e-ea24-4fe0-a837-c8a7b2da3560",
        "outputId": "05bdb671-a873-4b11-b832-1946f7bdf0d6"
      },
      "outputs": [
        {
          "data": {
            "text/plain": [
              "4.0    826\n",
              "5.0    575\n",
              "3.0    448\n",
              "1.0    329\n",
              "2.0    313\n",
              "Name: overall, dtype: int64"
            ]
          },
          "execution_count": 4,
          "metadata": {},
          "output_type": "execute_result"
        }
      ],
      "source": [
        "hotel = df.query(\"offering_id==93520\").copy()\n",
        "hotel[\"overall\"].value_counts()"
      ]
    },
    {
      "cell_type": "code",
      "execution_count": null,
      "id": "f33bd5ca-22e5-4be6-bb54-6a758cb75de5",
      "metadata": {
        "id": "f33bd5ca-22e5-4be6-bb54-6a758cb75de5"
      },
      "outputs": [],
      "source": [
        "from tokenizer import MWETokenizer\n",
        "\n",
        "tokenizer = MWETokenizer(open(\"terms.txt\"))"
      ]
    },
    {
      "cell_type": "code",
      "execution_count": null,
      "id": "bba965e1-dbc3-4cfd-b794-7dec4477aae1",
      "metadata": {
        "colab": {
          "referenced_widgets": [
            "c9f5ad14f18544f88f76b57e560b3b08"
          ]
        },
        "id": "bba965e1-dbc3-4cfd-b794-7dec4477aae1",
        "outputId": "a31da8e0-c2db-4cd1-b6a4-352414701f96"
      },
      "outputs": [
        {
          "data": {
            "application/vnd.jupyter.widget-view+json": {
              "model_id": "c9f5ad14f18544f88f76b57e560b3b08",
              "version_major": 2,
              "version_minor": 0
            },
            "text/plain": [
              "  0%|          | 0/2491 [00:00<?, ?it/s]"
            ]
          },
          "metadata": {},
          "output_type": "display_data"
        }
      ],
      "source": [
        "hotel[\"tokens\"] = (hotel[\"title\"] + \" \" + hotel[\"text\"]).progress_apply(\n",
        "    tokenizer.tokenize\n",
        ")"
      ]
    },
    {
      "cell_type": "markdown",
      "id": "427032a9-8f84-403a-afed-dece2f1c594e",
      "metadata": {
        "id": "427032a9-8f84-403a-afed-dece2f1c594e"
      },
      "source": [
        "## Apply topic model"
      ]
    },
    {
      "cell_type": "code",
      "execution_count": null,
      "id": "97799d62-085e-432b-89b2-e6f8011c2df2",
      "metadata": {
        "id": "97799d62-085e-432b-89b2-e6f8011c2df2"
      },
      "outputs": [],
      "source": [
        "hotel[\"doc\"] = [mdl.make_doc(words=toks) for toks in hotel[\"tokens\"]]\n",
        "topic_dist, ll = mdl.infer(hotel[\"doc\"])"
      ]
    },
    {
      "cell_type": "markdown",
      "id": "0f65b5ac-884e-4687-b78f-c9af64b0e10f",
      "metadata": {
        "id": "0f65b5ac-884e-4687-b78f-c9af64b0e10f"
      },
      "source": [
        "## Interpret model\n",
        "\n",
        "What topics are associated with a review?"
      ]
    },
    {
      "cell_type": "code",
      "execution_count": null,
      "id": "3a75e558-809e-4460-8a1b-6c65e8bcfcec",
      "metadata": {
        "id": "3a75e558-809e-4460-8a1b-6c65e8bcfcec",
        "outputId": "8beb28ba-265a-4f99-a44e-98d4ccc38b29"
      },
      "outputs": [
        {
          "data": {
            "text/plain": [
              "'Bedbugs!!!! No acknowledgement, no bill adjustment, just fill out a form for Security. I showed the manager a bite, and I am still itching like crazy! Only where my body was in contact with the bed did I have bites.'"
            ]
          },
          "execution_count": 8,
          "metadata": {},
          "output_type": "execute_result"
        }
      ],
      "source": [
        "hotel[\"text\"].iloc[0]"
      ]
    },
    {
      "cell_type": "code",
      "execution_count": null,
      "id": "546ee15b-ac12-4cc6-8e5c-c592eb528897",
      "metadata": {
        "id": "546ee15b-ac12-4cc6-8e5c-c592eb528897",
        "outputId": "f11ebf72-eecb-41e7-ddbe-43f6d8f1de49"
      },
      "outputs": [
        {
          "data": {
            "text/plain": [
              "[(33, 0.2037794142961502),\n",
              " (29, 0.08272796869277954),\n",
              " (32, 0.06548836082220078),\n",
              " (40, 0.06293294578790665),\n",
              " (22, 0.054054565727710724)]"
            ]
          },
          "execution_count": 9,
          "metadata": {},
          "output_type": "execute_result"
        }
      ],
      "source": [
        "hotel[\"doc\"].iloc[0].get_topics(top_n=5)"
      ]
    },
    {
      "cell_type": "code",
      "execution_count": null,
      "id": "649e58b3-fdfa-4a46-a45a-9c2fda1f9851",
      "metadata": {
        "id": "649e58b3-fdfa-4a46-a45a-9c2fda1f9851",
        "outputId": "f79f490e-8f97-4b1d-bdf2-10c67d85ffd7"
      },
      "outputs": [
        {
          "data": {
            "text/plain": [
              "[('hilton', 0.08599624037742615),\n",
              " ('property', 0.06887347251176834),\n",
              " ('marriott', 0.06563917547464371),\n",
              " ('westin', 0.06506841629743576),\n",
              " ('w', 0.042618561536073685),\n",
              " ('hotels', 0.037101227790117264),\n",
              " ('hyatt', 0.03272540867328644),\n",
              " ('am', 0.031583890318870544),\n",
              " ('sheraton', 0.023783521726727486),\n",
              " ('properties', 0.023593269288539886)]"
            ]
          },
          "execution_count": 10,
          "metadata": {},
          "output_type": "execute_result"
        }
      ],
      "source": [
        "mdl.get_topic_words(17)"
      ]
    },
    {
      "cell_type": "code",
      "execution_count": null,
      "id": "99e239e3-0d6f-41bd-9997-376d6f210d21",
      "metadata": {
        "id": "99e239e3-0d6f-41bd-9997-376d6f210d21",
        "outputId": "cc567054-7688-4666-9837-91cc605e6e96"
      },
      "outputs": [
        {
          "data": {
            "text/plain": [
              "[('its', 0.04651343449950218),\n",
              " ('because', 0.026509461924433708),\n",
              " ('too', 0.025600189343094826),\n",
              " ('bit', 0.020774057134985924),\n",
              " ('better', 0.020494280382990837),\n",
              " ('hotels', 0.020004672929644585),\n",
              " ('much', 0.020004672929644585),\n",
              " ('think', 0.017346801236271858),\n",
              " ('probably', 0.01706702448427677),\n",
              " ('does', 0.016437530517578125)]"
            ]
          },
          "execution_count": 11,
          "metadata": {},
          "output_type": "execute_result"
        }
      ],
      "source": [
        "mdl.get_topic_words(31)"
      ]
    },
    {
      "cell_type": "code",
      "execution_count": null,
      "id": "616f91f3-2516-4590-85fe-7d92d3834892",
      "metadata": {
        "id": "616f91f3-2516-4590-85fe-7d92d3834892",
        "outputId": "4582f891-0a09-48e7-a61d-ff7e8965d4f5"
      },
      "outputs": [
        {
          "data": {
            "text/plain": [
              "[('CHARGE', 0.2037794142961502),\n",
              " ('GO', 0.08272796869277954),\n",
              " ('BED', 0.06548836082220078),\n",
              " ('OTHER', 0.06293294578790665),\n",
              " ('SHE', 0.054054565727710724)]"
            ]
          },
          "execution_count": 12,
          "metadata": {},
          "output_type": "execute_result"
        }
      ],
      "source": [
        "[(labels[x], y) for x, y in hotel[\"doc\"].iloc[0].get_topics(top_n=5)]"
      ]
    },
    {
      "cell_type": "markdown",
      "id": "7ed5a9b0-0d15-406c-a8f4-46705edd1393",
      "metadata": {
        "id": "7ed5a9b0-0d15-406c-a8f4-46705edd1393"
      },
      "source": [
        "What are the most common topics?"
      ]
    },
    {
      "cell_type": "code",
      "execution_count": null,
      "id": "e0a7f96a-e713-4c60-8bc1-7264d2186d21",
      "metadata": {
        "id": "e0a7f96a-e713-4c60-8bc1-7264d2186d21"
      },
      "outputs": [],
      "source": [
        "hotel[\"topics\"] = [\n",
        "    [labels[t] for t in map(first, d.get_topics(3))] for d in hotel[\"doc\"]\n",
        "]"
      ]
    },
    {
      "cell_type": "code",
      "execution_count": null,
      "id": "1ad017f7-5d74-4f13-9feb-2169ce4176e3",
      "metadata": {
        "id": "1ad017f7-5d74-4f13-9feb-2169ce4176e3",
        "outputId": "464b8aee-81cd-42cb-a0ea-11006b648925"
      },
      "outputs": [
        {
          "data": {
            "text/plain": [
              "49680                     [CHARGE, GO, BED]\n",
              "49681             [THEIR, ALWAYS, ELEVATOR]\n",
              "49705               [SEATTLE, MADE, ALWAYS]\n",
              "49706     [GREAT_LOCATION, RECOMMEND, WALK]\n",
              "49707                        [NYC, OLD, GO]\n",
              "                        ...                \n",
              "119799                     [LITTLE, 3, NYC]\n",
              "120641              [UPON, NIGHTS, MINUTES]\n",
              "122697                 [BOOKED, GO, LITTLE]\n",
              "123934                [TOO, ITS, RECOMMEND]\n",
              "128080             [ELEVATOR, CHARGE, DOWN]\n",
              "Name: topics, Length: 2491, dtype: object"
            ]
          },
          "execution_count": 14,
          "metadata": {},
          "output_type": "execute_result"
        }
      ],
      "source": [
        "hotel[\"topics\"]"
      ]
    },
    {
      "cell_type": "code",
      "execution_count": null,
      "id": "5fefa54f-2e3f-4d1d-b519-d16ed6765469",
      "metadata": {
        "id": "5fefa54f-2e3f-4d1d-b519-d16ed6765469"
      },
      "outputs": [],
      "source": [
        "topic_freq = Counter(concat(hotel[\"topics\"]))\n",
        "topic_freq.most_common()"
      ]
    },
    {
      "cell_type": "markdown",
      "id": "0bac877f-efa7-4045-aabb-efbba59d3d71",
      "metadata": {
        "id": "0bac877f-efa7-4045-aabb-efbba59d3d71"
      },
      "source": [
        "Most common topics in 1 star reviews?"
      ]
    },
    {
      "cell_type": "code",
      "execution_count": null,
      "id": "3cf63449-f1e3-495e-a193-71f7cd3b0d55",
      "metadata": {
        "id": "3cf63449-f1e3-495e-a193-71f7cd3b0d55",
        "outputId": "a819c00f-9ee9-4cf8-b23e-6aaed951be4a"
      },
      "outputs": [
        {
          "data": {
            "text/plain": [
              "[('DOWN', 194),\n",
              " ('DIRTY', 118),\n",
              " ('GO', 81),\n",
              " ('MINUTES', 40),\n",
              " ('THEIR', 39),\n",
              " ('UPON', 39),\n",
              " ('HE', 39),\n",
              " ('SEE', 37),\n",
              " ('ELEVATOR', 36),\n",
              " ('ITS', 31),\n",
              " ('NOISE', 27),\n",
              " ('3', 23),\n",
              " ('ALWAYS', 22),\n",
              " ('CHECK', 19),\n",
              " ('LITTLE', 18),\n",
              " ('PARKING', 17),\n",
              " ('TOO', 16),\n",
              " ('BOOKED', 15),\n",
              " ('OTHER', 15),\n",
              " ('FOUND', 15),\n",
              " ('SHE', 14),\n",
              " ('NIGHTS', 13),\n",
              " ('NYC', 13),\n",
              " ('CHARGE', 12),\n",
              " ('4', 12),\n",
              " ('OLD', 11),\n",
              " ('BED', 11),\n",
              " ('MONEY', 10),\n",
              " ('BEST', 10),\n",
              " ('MADE', 8),\n",
              " ('RECOMMEND', 7),\n",
              " ('REVIEWS', 4),\n",
              " ('RESTAURANT', 3),\n",
              " ('SEATTLE', 3),\n",
              " ('WALK', 3),\n",
              " ('VIEW', 2),\n",
              " ('HILTON', 2),\n",
              " ('CONFERENCE', 2),\n",
              " ('GREAT_LOCATION', 2),\n",
              " ('AWAY', 1),\n",
              " ('SAN_DIEGO', 1),\n",
              " ('STREET', 1),\n",
              " ('COFFEE', 1)]"
            ]
          },
          "execution_count": 20,
          "metadata": {},
          "output_type": "execute_result"
        }
      ],
      "source": [
        "topic_freq = Counter(concat(hotel.query(\"overall==1\")[\"topics\"]))\n",
        "topic_freq.most_common()"
      ]
    },
    {
      "cell_type": "markdown",
      "id": "10ad619f-d5f4-4029-8c55-940c19a6eff3",
      "metadata": {
        "id": "10ad619f-d5f4-4029-8c55-940c19a6eff3"
      },
      "source": [
        "Most common topics in 5 star reviews?"
      ]
    },
    {
      "cell_type": "code",
      "execution_count": null,
      "id": "b90022a9-6c32-4f1e-a07a-045ccf026c49",
      "metadata": {
        "id": "b90022a9-6c32-4f1e-a07a-045ccf026c49",
        "outputId": "beca663a-9ebb-4ea1-b4f8-85f0e38ecb61"
      },
      "outputs": [
        {
          "data": {
            "text/plain": [
              "[('NYC', 210),\n",
              " ('GO', 178),\n",
              " ('RECOMMEND', 110),\n",
              " ('ALWAYS', 101),\n",
              " ('GREAT_LOCATION', 84),\n",
              " ('MADE', 84),\n",
              " ('LITTLE', 83),\n",
              " ('DOWN', 52),\n",
              " ('BEST', 50),\n",
              " ('ITS', 45),\n",
              " ('WALK', 42),\n",
              " ('UPON', 40),\n",
              " ('CHECK', 39),\n",
              " ('SEE', 36),\n",
              " ('ELEVATOR', 35),\n",
              " ('REVIEWS', 32),\n",
              " ('WALKING_DISTANCE', 31),\n",
              " ('SHE', 27),\n",
              " ('AWAY', 25),\n",
              " ('STREET', 25),\n",
              " ('MONEY', 25),\n",
              " ('FOUND', 22),\n",
              " ('BED', 21),\n",
              " ('3', 21),\n",
              " ('HE', 21),\n",
              " ('NIGHTS', 21),\n",
              " ('CLOSE', 21),\n",
              " ('THEIR', 21),\n",
              " ('OTHER', 21),\n",
              " ('MINUTES', 20),\n",
              " ('SEATTLE', 20),\n",
              " ('BOOKED', 20),\n",
              " ('4', 19),\n",
              " ('RESTAURANT', 19),\n",
              " ('TOO', 14),\n",
              " ('VIEW', 12),\n",
              " ('NOISE', 12),\n",
              " ('PARKING', 11),\n",
              " ('OLD', 9),\n",
              " ('AIRPORT', 8),\n",
              " ('FREE', 8),\n",
              " ('DIRTY', 8),\n",
              " ('CONFERENCE', 7),\n",
              " ('HILTON', 5),\n",
              " ('POOL', 3),\n",
              " ('COFFEE', 3),\n",
              " ('SAN_FRANCISCO', 2),\n",
              " ('CHARGE', 2)]"
            ]
          },
          "execution_count": 19,
          "metadata": {},
          "output_type": "execute_result"
        }
      ],
      "source": [
        "topic_freq = Counter(concat(hotel.query(\"overall==5\")[\"topics\"]))\n",
        "topic_freq.most_common()"
      ]
    },
    {
      "cell_type": "markdown",
      "id": "94a18b8b-f296-40b8-b30f-9c9d84d50465",
      "metadata": {
        "id": "94a18b8b-f296-40b8-b30f-9c9d84d50465"
      },
      "source": [
        "## Report\n",
        "\n",
        "Finish this notebook by writing a brief report to the hotel managers describing what you've found in the reviews of their hotel, along with some actionable advice. Use whatever data, charts, word clouds, etc. that you think will help you make your case."
      ]
    },
    {
      "cell_type": "code",
      "execution_count": 1,
      "id": "a9ec345f-97ce-40c5-94c1-c0fd13ac47c2",
      "metadata": {
        "colab": {
          "base_uri": "https://localhost:8080/",
          "height": 159
        },
        "id": "a9ec345f-97ce-40c5-94c1-c0fd13ac47c2",
        "outputId": "ce3650a3-692a-4fde-fbc0-7c6cf6167226"
      },
      "outputs": [
        {
          "output_type": "error",
          "ename": "NameError",
          "evalue": "name 'hotel' is not defined",
          "traceback": [
            "\u001b[0;31m---------------------------------------------------------------------------\u001b[0m",
            "\u001b[0;31mNameError\u001b[0m                                 Traceback (most recent call last)",
            "\u001b[0;32m<ipython-input-1-7ffb227f0ce8>\u001b[0m in \u001b[0;36m<cell line: 1>\u001b[0;34m()\u001b[0m\n\u001b[0;32m----> 1\u001b[0;31m \u001b[0mavg_rating\u001b[0m \u001b[0;34m=\u001b[0m \u001b[0mhotel\u001b[0m\u001b[0;34m[\u001b[0m\u001b[0;34m\"overall\"\u001b[0m\u001b[0;34m]\u001b[0m\u001b[0;34m.\u001b[0m\u001b[0mmean\u001b[0m\u001b[0;34m(\u001b[0m\u001b[0;34m)\u001b[0m\u001b[0;34m\u001b[0m\u001b[0;34m\u001b[0m\u001b[0m\n\u001b[0m\u001b[1;32m      2\u001b[0m \u001b[0mavg_rating\u001b[0m\u001b[0;34m\u001b[0m\u001b[0;34m\u001b[0m\u001b[0m\n",
            "\u001b[0;31mNameError\u001b[0m: name 'hotel' is not defined"
          ]
        }
      ],
      "source": [
        "avg_rating = hotel[\"overall\"].mean()\n",
        "avg_rating"
      ]
    },
    {
      "cell_type": "markdown",
      "source": [
        "I found that the Hudson Hotel has an average rating of about 3 out of 5 stars with 2,543 reviews. This rating reflects that the place is mediocre and doesn't stand out against other hotels that possible guests could choose from.\n",
        "\n",
        "The most common topic within these reviews is about the bar. After reading through several reviews, it seems that the bar gets pretty noisy, so many people either love it or hate it. The ones who talked positively about it most likely enjoy drinking and going to bars; those who didn't probably weren't too interested and complained about the noise. One person went so far as to say that they \"had to wear earplugs even when reading.\"\n",
        "\n",
        "Since one of the most common topic in 1 star reviews is about the bar, perhaps there should be something done that will make guests happier. For example, the hours of the bar can be reduced so it closes at an earlier time or quiet hours can be set. This way people won't complain about the noise late at night when they are trying to sleep. However, many people had a lot of good things to say since it was the most common topic in 5 star reviews. In this sense, it's difficult to gauge how people would feel about reduced hours for the bar. There are surely many ways the hotel could improve its services in order to achieve a higher overall rating."
      ],
      "metadata": {
        "id": "0GM1Oep1qLnt"
      },
      "id": "0GM1Oep1qLnt"
    }
  ],
  "metadata": {
    "kernelspec": {
      "display_name": "Python 3 (ipykernel)",
      "language": "python",
      "name": "python3"
    },
    "language_info": {
      "codemirror_mode": {
        "name": "ipython",
        "version": 3
      },
      "file_extension": ".py",
      "mimetype": "text/x-python",
      "name": "python",
      "nbconvert_exporter": "python",
      "pygments_lexer": "ipython3",
      "version": "3.10.8"
    },
    "colab": {
      "provenance": []
    }
  },
  "nbformat": 4,
  "nbformat_minor": 5
}