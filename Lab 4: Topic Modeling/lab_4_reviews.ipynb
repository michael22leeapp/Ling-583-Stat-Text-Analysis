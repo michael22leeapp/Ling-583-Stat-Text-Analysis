{
  "cells": [
    {
      "cell_type": "markdown",
      "id": "e64c8111-ad50-41d3-9043-116df80188f0",
      "metadata": {
        "id": "e64c8111-ad50-41d3-9043-116df80188f0"
      },
      "source": [
        "# LAB 4: Topic modeling\n",
        "\n",
        "Use topic models to explore hotel reviews\n",
        "\n",
        "Objectives:\n",
        "\n",
        "- tokenize with MWEs using spacy\n",
        "- estimate LDA topic models with tomotopy\n",
        "- visualize and evaluate topic models\n",
        "- apply topic models to interpretation of hotel reviews"
      ]
    },
    {
      "cell_type": "code",
      "execution_count": null,
      "id": "a21fe33b-4381-49df-90c9-665706b6eae1",
      "metadata": {
        "id": "a21fe33b-4381-49df-90c9-665706b6eae1"
      },
      "outputs": [],
      "source": [
        "from collections import Counter\n",
        "\n",
        "import numpy as np\n",
        "import pandas as pd\n",
        "import tomotopy as tp\n",
        "from cytoolz import *\n",
        "from tqdm.auto import tqdm\n",
        "\n",
        "tqdm.pandas()"
      ]
    },
    {
      "cell_type": "markdown",
      "id": "deff05b5-91cb-42b5-be8e-3f2f21ce96a1",
      "metadata": {
        "id": "deff05b5-91cb-42b5-be8e-3f2f21ce96a1"
      },
      "source": [
        "## Prepare data"
      ]
    },
    {
      "cell_type": "code",
      "execution_count": null,
      "id": "c69b3c46-0b76-4116-86b5-9a237fecce3f",
      "metadata": {
        "id": "c69b3c46-0b76-4116-86b5-9a237fecce3f"
      },
      "outputs": [],
      "source": [
        "df = pd.read_pickle(\"/data/hotels_id.pkl\")\n",
        "mdl = tp.LDAModel.load(\"hotel-topics.bin\")\n",
        "labels = list(pd.read_csv(\"labels.csv\")[\"label\"])"
      ]
    },
    {
      "cell_type": "code",
      "execution_count": null,
      "id": "9b9285b0-bfad-4abd-9aad-287449f9a1ba",
      "metadata": {
        "id": "9b9285b0-bfad-4abd-9aad-287449f9a1ba",
        "outputId": "8547e0e6-365a-4583-9b0a-1c04322e7767"
      },
      "outputs": [
        {
          "data": {
            "text/plain": [
              "214197     1359\n",
              "93421       684\n",
              "223023      486\n",
              "93520       329\n",
              "111418      238\n",
              "112066      233\n",
              "99766       206\n",
              "93437       195\n",
              "99307       179\n",
              "119728      169\n",
              "93618       168\n",
              "80602       157\n",
              "1938661     156\n",
              "122007      147\n",
              "93450       145\n",
              "93466       145\n",
              "93464       144\n",
              "101653      143\n",
              "93356       139\n",
              "87595       132\n",
              "Name: offering_id, dtype: int64"
            ]
          },
          "execution_count": 3,
          "metadata": {},
          "output_type": "execute_result"
        }
      ],
      "source": [
        "df[df[\"overall\"] == 1][\"offering_id\"].value_counts().head(20)"
      ]
    },
    {
      "cell_type": "markdown",
      "id": "1e52f04f-ac0a-4f5b-bb60-7e1d88c25198",
      "metadata": {
        "id": "1e52f04f-ac0a-4f5b-bb60-7e1d88c25198"
      },
      "source": [
        "Pick a hotel with a lot of 1 star ratings (other than # 93520) and pull out all of its reviews"
      ]
    },
    {
      "cell_type": "code",
      "execution_count": null,
      "id": "264a034e-ea24-4fe0-a837-c8a7b2da3560",
      "metadata": {
        "id": "264a034e-ea24-4fe0-a837-c8a7b2da3560",
        "outputId": "7e28958f-9058-4005-cd47-04d41fabc2c2"
      },
      "outputs": [
        {
          "data": {
            "text/plain": [
              "4.0    826\n",
              "5.0    575\n",
              "3.0    448\n",
              "1.0    329\n",
              "2.0    313\n",
              "Name: overall, dtype: int64"
            ]
          },
          "execution_count": 4,
          "metadata": {},
          "output_type": "execute_result"
        }
      ],
      "source": [
        "hotel = df.query(\"offering_id==93520\").copy()\n",
        "hotel[\"overall\"].value_counts()"
      ]
    },
    {
      "cell_type": "code",
      "execution_count": null,
      "id": "f33bd5ca-22e5-4be6-bb54-6a758cb75de5",
      "metadata": {
        "id": "f33bd5ca-22e5-4be6-bb54-6a758cb75de5"
      },
      "outputs": [],
      "source": [
        "from tokenizer import MWETokenizer\n",
        "\n",
        "tokenizer = MWETokenizer(open(\"terms.txt\"))"
      ]
    },
    {
      "cell_type": "code",
      "execution_count": null,
      "id": "bba965e1-dbc3-4cfd-b794-7dec4477aae1",
      "metadata": {
        "id": "bba965e1-dbc3-4cfd-b794-7dec4477aae1",
        "outputId": "f08fbf0d-8db4-4c0f-915b-a473a9b0fba3",
        "colab": {
          "referenced_widgets": [
            "c9f5ad14f18544f88f76b57e560b3b08"
          ]
        }
      },
      "outputs": [
        {
          "data": {
            "application/vnd.jupyter.widget-view+json": {
              "model_id": "c9f5ad14f18544f88f76b57e560b3b08",
              "version_major": 2,
              "version_minor": 0
            },
            "text/plain": [
              "  0%|          | 0/2491 [00:00<?, ?it/s]"
            ]
          },
          "metadata": {},
          "output_type": "display_data"
        }
      ],
      "source": [
        "hotel[\"tokens\"] = (hotel[\"title\"] + \" \" + hotel[\"text\"]).progress_apply(\n",
        "    tokenizer.tokenize\n",
        ")"
      ]
    },
    {
      "cell_type": "markdown",
      "id": "427032a9-8f84-403a-afed-dece2f1c594e",
      "metadata": {
        "id": "427032a9-8f84-403a-afed-dece2f1c594e"
      },
      "source": [
        "## Apply topic model"
      ]
    },
    {
      "cell_type": "code",
      "execution_count": null,
      "id": "97799d62-085e-432b-89b2-e6f8011c2df2",
      "metadata": {
        "id": "97799d62-085e-432b-89b2-e6f8011c2df2"
      },
      "outputs": [],
      "source": [
        "hotel[\"doc\"] = [mdl.make_doc(words=toks) for toks in hotel[\"tokens\"]]\n",
        "topic_dist, ll = mdl.infer(hotel[\"doc\"])"
      ]
    },
    {
      "cell_type": "markdown",
      "id": "0f65b5ac-884e-4687-b78f-c9af64b0e10f",
      "metadata": {
        "id": "0f65b5ac-884e-4687-b78f-c9af64b0e10f"
      },
      "source": [
        "## Interpret model\n",
        "\n",
        "What topics are associated with a review?"
      ]
    },
    {
      "cell_type": "code",
      "execution_count": null,
      "id": "3a75e558-809e-4460-8a1b-6c65e8bcfcec",
      "metadata": {
        "id": "3a75e558-809e-4460-8a1b-6c65e8bcfcec",
        "outputId": "12b50bf5-1ebe-4fcc-d796-241143f7bad2"
      },
      "outputs": [
        {
          "data": {
            "text/plain": [
              "'Bedbugs!!!! No acknowledgement, no bill adjustment, just fill out a form for Security. I showed the manager a bite, and I am still itching like crazy! Only where my body was in contact with the bed did I have bites.'"
            ]
          },
          "execution_count": 8,
          "metadata": {},
          "output_type": "execute_result"
        }
      ],
      "source": [
        "hotel[\"text\"].iloc[0]"
      ]
    },
    {
      "cell_type": "code",
      "execution_count": null,
      "id": "546ee15b-ac12-4cc6-8e5c-c592eb528897",
      "metadata": {
        "id": "546ee15b-ac12-4cc6-8e5c-c592eb528897",
        "outputId": "02daa1a8-6c59-4d36-821c-f5382dc0a98b"
      },
      "outputs": [
        {
          "data": {
            "text/plain": [
              "[(33, 0.2037794142961502),\n",
              " (29, 0.08272796869277954),\n",
              " (32, 0.06548836082220078),\n",
              " (40, 0.06293294578790665),\n",
              " (22, 0.054054565727710724)]"
            ]
          },
          "execution_count": 9,
          "metadata": {},
          "output_type": "execute_result"
        }
      ],
      "source": [
        "hotel[\"doc\"].iloc[0].get_topics(top_n=5)"
      ]
    },
    {
      "cell_type": "code",
      "execution_count": null,
      "id": "649e58b3-fdfa-4a46-a45a-9c2fda1f9851",
      "metadata": {
        "id": "649e58b3-fdfa-4a46-a45a-9c2fda1f9851",
        "outputId": "9f525a53-8684-46a3-b4e0-dbc438d7518d"
      },
      "outputs": [
        {
          "data": {
            "text/plain": [
              "[('hilton', 0.08599624037742615),\n",
              " ('property', 0.06887347251176834),\n",
              " ('marriott', 0.06563917547464371),\n",
              " ('westin', 0.06506841629743576),\n",
              " ('w', 0.042618561536073685),\n",
              " ('hotels', 0.037101227790117264),\n",
              " ('hyatt', 0.03272540867328644),\n",
              " ('am', 0.031583890318870544),\n",
              " ('sheraton', 0.023783521726727486),\n",
              " ('properties', 0.023593269288539886)]"
            ]
          },
          "execution_count": 10,
          "metadata": {},
          "output_type": "execute_result"
        }
      ],
      "source": [
        "mdl.get_topic_words(17)"
      ]
    },
    {
      "cell_type": "code",
      "execution_count": null,
      "id": "99e239e3-0d6f-41bd-9997-376d6f210d21",
      "metadata": {
        "id": "99e239e3-0d6f-41bd-9997-376d6f210d21",
        "outputId": "d9265a5e-30ef-48a4-9b63-12e388b15168"
      },
      "outputs": [
        {
          "data": {
            "text/plain": [
              "[('its', 0.04651343449950218),\n",
              " ('because', 0.026509461924433708),\n",
              " ('too', 0.025600189343094826),\n",
              " ('bit', 0.020774057134985924),\n",
              " ('better', 0.020494280382990837),\n",
              " ('hotels', 0.020004672929644585),\n",
              " ('much', 0.020004672929644585),\n",
              " ('think', 0.017346801236271858),\n",
              " ('probably', 0.01706702448427677),\n",
              " ('does', 0.016437530517578125)]"
            ]
          },
          "execution_count": 11,
          "metadata": {},
          "output_type": "execute_result"
        }
      ],
      "source": [
        "mdl.get_topic_words(31)"
      ]
    },
    {
      "cell_type": "code",
      "execution_count": null,
      "id": "616f91f3-2516-4590-85fe-7d92d3834892",
      "metadata": {
        "id": "616f91f3-2516-4590-85fe-7d92d3834892",
        "outputId": "f6a462ba-821c-4387-c9b3-7408948065ee"
      },
      "outputs": [
        {
          "data": {
            "text/plain": [
              "[('CHARGE', 0.2037794142961502),\n",
              " ('GO', 0.08272796869277954),\n",
              " ('BED', 0.06548836082220078),\n",
              " ('OTHER', 0.06293294578790665),\n",
              " ('SHE', 0.054054565727710724)]"
            ]
          },
          "execution_count": 12,
          "metadata": {},
          "output_type": "execute_result"
        }
      ],
      "source": [
        "[(labels[x], y) for x, y in hotel[\"doc\"].iloc[0].get_topics(top_n=5)]"
      ]
    },
    {
      "cell_type": "markdown",
      "id": "7ed5a9b0-0d15-406c-a8f4-46705edd1393",
      "metadata": {
        "id": "7ed5a9b0-0d15-406c-a8f4-46705edd1393"
      },
      "source": [
        "What are the most common topics?"
      ]
    },
    {
      "cell_type": "code",
      "execution_count": null,
      "id": "e0a7f96a-e713-4c60-8bc1-7264d2186d21",
      "metadata": {
        "id": "e0a7f96a-e713-4c60-8bc1-7264d2186d21"
      },
      "outputs": [],
      "source": [
        "hotel[\"topics\"] = [\n",
        "    [labels[t] for t in map(first, d.get_topics(3))] for d in hotel[\"doc\"]\n",
        "]"
      ]
    },
    {
      "cell_type": "code",
      "execution_count": null,
      "id": "1ad017f7-5d74-4f13-9feb-2169ce4176e3",
      "metadata": {
        "id": "1ad017f7-5d74-4f13-9feb-2169ce4176e3",
        "outputId": "79c0468c-472d-4cde-873f-267f5288d1a8"
      },
      "outputs": [
        {
          "data": {
            "text/plain": [
              "49680                     [CHARGE, GO, BED]\n",
              "49681             [THEIR, ALWAYS, ELEVATOR]\n",
              "49705               [SEATTLE, MADE, ALWAYS]\n",
              "49706     [GREAT_LOCATION, RECOMMEND, WALK]\n",
              "49707                        [NYC, OLD, GO]\n",
              "                        ...                \n",
              "119799                     [LITTLE, 3, NYC]\n",
              "120641              [UPON, NIGHTS, MINUTES]\n",
              "122697                 [BOOKED, GO, LITTLE]\n",
              "123934                [TOO, ITS, RECOMMEND]\n",
              "128080             [ELEVATOR, CHARGE, DOWN]\n",
              "Name: topics, Length: 2491, dtype: object"
            ]
          },
          "execution_count": 14,
          "metadata": {},
          "output_type": "execute_result"
        }
      ],
      "source": [
        "hotel[\"topics\"]"
      ]
    },
    {
      "cell_type": "code",
      "execution_count": null,
      "id": "5fefa54f-2e3f-4d1d-b519-d16ed6765469",
      "metadata": {
        "id": "5fefa54f-2e3f-4d1d-b519-d16ed6765469"
      },
      "outputs": [],
      "source": [
        "topic_freq = Counter(concat(hotel[\"topics\"]))\n",
        "topic_freq.most_common()"
      ]
    },
    {
      "cell_type": "markdown",
      "id": "0bac877f-efa7-4045-aabb-efbba59d3d71",
      "metadata": {
        "id": "0bac877f-efa7-4045-aabb-efbba59d3d71"
      },
      "source": [
        "Most common topics in 1 star reviews?"
      ]
    },
    {
      "cell_type": "code",
      "execution_count": null,
      "id": "3cf63449-f1e3-495e-a193-71f7cd3b0d55",
      "metadata": {
        "id": "3cf63449-f1e3-495e-a193-71f7cd3b0d55",
        "outputId": "dea67488-1f02-469b-8182-8da77bdf3ad0"
      },
      "outputs": [
        {
          "data": {
            "text/plain": [
              "[('DOWN', 194),\n",
              " ('DIRTY', 118),\n",
              " ('GO', 81),\n",
              " ('MINUTES', 40),\n",
              " ('THEIR', 39),\n",
              " ('UPON', 39),\n",
              " ('HE', 39),\n",
              " ('SEE', 37),\n",
              " ('ELEVATOR', 36),\n",
              " ('ITS', 31),\n",
              " ('NOISE', 27),\n",
              " ('3', 23),\n",
              " ('ALWAYS', 22),\n",
              " ('CHECK', 19),\n",
              " ('LITTLE', 18),\n",
              " ('PARKING', 17),\n",
              " ('TOO', 16),\n",
              " ('BOOKED', 15),\n",
              " ('OTHER', 15),\n",
              " ('FOUND', 15),\n",
              " ('SHE', 14),\n",
              " ('NIGHTS', 13),\n",
              " ('NYC', 13),\n",
              " ('CHARGE', 12),\n",
              " ('4', 12),\n",
              " ('OLD', 11),\n",
              " ('BED', 11),\n",
              " ('MONEY', 10),\n",
              " ('BEST', 10),\n",
              " ('MADE', 8),\n",
              " ('RECOMMEND', 7),\n",
              " ('REVIEWS', 4),\n",
              " ('RESTAURANT', 3),\n",
              " ('SEATTLE', 3),\n",
              " ('WALK', 3),\n",
              " ('VIEW', 2),\n",
              " ('HILTON', 2),\n",
              " ('CONFERENCE', 2),\n",
              " ('GREAT_LOCATION', 2),\n",
              " ('AWAY', 1),\n",
              " ('SAN_DIEGO', 1),\n",
              " ('STREET', 1),\n",
              " ('COFFEE', 1)]"
            ]
          },
          "execution_count": 20,
          "metadata": {},
          "output_type": "execute_result"
        }
      ],
      "source": [
        "topic_freq = Counter(concat(hotel.query(\"overall==1\")[\"topics\"]))\n",
        "topic_freq.most_common()"
      ]
    },
    {
      "cell_type": "markdown",
      "id": "10ad619f-d5f4-4029-8c55-940c19a6eff3",
      "metadata": {
        "id": "10ad619f-d5f4-4029-8c55-940c19a6eff3"
      },
      "source": [
        "Most common topics in 5 star reviews?"
      ]
    },
    {
      "cell_type": "code",
      "execution_count": null,
      "id": "b90022a9-6c32-4f1e-a07a-045ccf026c49",
      "metadata": {
        "id": "b90022a9-6c32-4f1e-a07a-045ccf026c49",
        "outputId": "56b3e418-2d92-4c73-d589-48dcd402cc95"
      },
      "outputs": [
        {
          "data": {
            "text/plain": [
              "[('NYC', 210),\n",
              " ('GO', 178),\n",
              " ('RECOMMEND', 110),\n",
              " ('ALWAYS', 101),\n",
              " ('GREAT_LOCATION', 84),\n",
              " ('MADE', 84),\n",
              " ('LITTLE', 83),\n",
              " ('DOWN', 52),\n",
              " ('BEST', 50),\n",
              " ('ITS', 45),\n",
              " ('WALK', 42),\n",
              " ('UPON', 40),\n",
              " ('CHECK', 39),\n",
              " ('SEE', 36),\n",
              " ('ELEVATOR', 35),\n",
              " ('REVIEWS', 32),\n",
              " ('WALKING_DISTANCE', 31),\n",
              " ('SHE', 27),\n",
              " ('AWAY', 25),\n",
              " ('STREET', 25),\n",
              " ('MONEY', 25),\n",
              " ('FOUND', 22),\n",
              " ('BED', 21),\n",
              " ('3', 21),\n",
              " ('HE', 21),\n",
              " ('NIGHTS', 21),\n",
              " ('CLOSE', 21),\n",
              " ('THEIR', 21),\n",
              " ('OTHER', 21),\n",
              " ('MINUTES', 20),\n",
              " ('SEATTLE', 20),\n",
              " ('BOOKED', 20),\n",
              " ('4', 19),\n",
              " ('RESTAURANT', 19),\n",
              " ('TOO', 14),\n",
              " ('VIEW', 12),\n",
              " ('NOISE', 12),\n",
              " ('PARKING', 11),\n",
              " ('OLD', 9),\n",
              " ('AIRPORT', 8),\n",
              " ('FREE', 8),\n",
              " ('DIRTY', 8),\n",
              " ('CONFERENCE', 7),\n",
              " ('HILTON', 5),\n",
              " ('POOL', 3),\n",
              " ('COFFEE', 3),\n",
              " ('SAN_FRANCISCO', 2),\n",
              " ('CHARGE', 2)]"
            ]
          },
          "execution_count": 19,
          "metadata": {},
          "output_type": "execute_result"
        }
      ],
      "source": [
        "topic_freq = Counter(concat(hotel.query(\"overall==5\")[\"topics\"]))\n",
        "topic_freq.most_common()"
      ]
    },
    {
      "cell_type": "markdown",
      "id": "94a18b8b-f296-40b8-b30f-9c9d84d50465",
      "metadata": {
        "id": "94a18b8b-f296-40b8-b30f-9c9d84d50465"
      },
      "source": [
        "## Report\n",
        "\n",
        "Finish this notebook by writing a brief report to the hotel managers describing what you've found in the reviews of their hotel, along with some actionable advice. Use whatever data, charts, word clouds, etc. that you think will help you make your case."
      ]
    },
    {
      "cell_type": "code",
      "execution_count": null,
      "id": "a9ec345f-97ce-40c5-94c1-c0fd13ac47c2",
      "metadata": {
        "id": "a9ec345f-97ce-40c5-94c1-c0fd13ac47c2"
      },
      "outputs": [],
      "source": [
        "avg_rating = hotel[\"overall\"].mean()\n",
        "avg_rating"
      ]
    },
    {
      "cell_type": "markdown",
      "source": [
        "I found that the Hudson Hotel has an average rating of about 3 out of 5 stars with 2,543 reviews. This rating reflects that the place is mediocre and doesn't stand out against other hotels that possible guests could choose from.\n",
        "\n",
        "The most common topic within these reviews is about the bar. After reading through several reviews, it seems that the bar gets pretty noisy, so many people either love it or hate it. The ones who talked positively about it most likely enjoy drinking and going to bars; those who didn't probably weren't too interested and complained about the noise. One person went so far as to say that they \"had to wear earplugs even when reading.\"\n",
        "\n",
        "Since one of the most common topic in 1 star reviews is about the bar, perhaps there should be something done that will make guests happier. For example, the hours of the bar can be reduced so it closes at an earlier time or quiet hours can be set. This way people won't complain about the noise late at night when they are trying to sleep. However, many people had a lot of good things to say since it was the most common topic in 5 star reviews. In this sense, it's difficult to gauge how people would feel about reduced hours for the bar. There are surely many ways the hotel could improve its services in order to achieve a higher overall rating."
      ],
      "metadata": {
        "id": "wE_4htGOq0k5"
      },
      "id": "wE_4htGOq0k5"
    }
  ],
  "metadata": {
    "kernelspec": {
      "display_name": "Python 3 (ipykernel)",
      "language": "python",
      "name": "python3"
    },
    "language_info": {
      "codemirror_mode": {
        "name": "ipython",
        "version": 3
      },
      "file_extension": ".py",
      "mimetype": "text/x-python",
      "name": "python",
      "nbconvert_exporter": "python",
      "pygments_lexer": "ipython3",
      "version": "3.10.8"
    },
    "colab": {
      "provenance": []
    }
  },
  "nbformat": 4,
  "nbformat_minor": 5
}